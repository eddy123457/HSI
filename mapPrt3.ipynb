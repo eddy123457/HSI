{
  "nbformat": 4,
  "nbformat_minor": 0,
  "metadata": {
    "colab": {
      "provenance": []
    },
    "kernelspec": {
      "name": "python3",
      "display_name": "Python 3"
    },
    "language_info": {
      "name": "python"
    }
  },
  "cells": [
    {
      "cell_type": "code",
      "execution_count": null,
      "metadata": {
        "colab": {
          "base_uri": "https://localhost:8080/"
        },
        "id": "oIj2CzDwWe7J",
        "outputId": "d0a60e77-adde-43d1-d51e-aa4099c0b87b"
      },
      "outputs": [
        {
          "output_type": "stream",
          "name": "stdout",
          "text": [
            "Requirement already satisfied: geopandas in /usr/local/lib/python3.10/dist-packages (0.13.2)\n",
            "Requirement already satisfied: fiona>=1.8.19 in /usr/local/lib/python3.10/dist-packages (from geopandas) (1.9.6)\n",
            "Requirement already satisfied: packaging in /usr/local/lib/python3.10/dist-packages (from geopandas) (24.1)\n",
            "Requirement already satisfied: pandas>=1.1.0 in /usr/local/lib/python3.10/dist-packages (from geopandas) (2.0.3)\n",
            "Requirement already satisfied: pyproj>=3.0.1 in /usr/local/lib/python3.10/dist-packages (from geopandas) (3.6.1)\n",
            "Requirement already satisfied: shapely>=1.7.1 in /usr/local/lib/python3.10/dist-packages (from geopandas) (2.0.4)\n",
            "Requirement already satisfied: attrs>=19.2.0 in /usr/local/lib/python3.10/dist-packages (from fiona>=1.8.19->geopandas) (23.2.0)\n",
            "Requirement already satisfied: certifi in /usr/local/lib/python3.10/dist-packages (from fiona>=1.8.19->geopandas) (2024.7.4)\n",
            "Requirement already satisfied: click~=8.0 in /usr/local/lib/python3.10/dist-packages (from fiona>=1.8.19->geopandas) (8.1.7)\n",
            "Requirement already satisfied: click-plugins>=1.0 in /usr/local/lib/python3.10/dist-packages (from fiona>=1.8.19->geopandas) (1.1.1)\n",
            "Requirement already satisfied: cligj>=0.5 in /usr/local/lib/python3.10/dist-packages (from fiona>=1.8.19->geopandas) (0.7.2)\n",
            "Requirement already satisfied: six in /usr/local/lib/python3.10/dist-packages (from fiona>=1.8.19->geopandas) (1.16.0)\n",
            "Requirement already satisfied: python-dateutil>=2.8.2 in /usr/local/lib/python3.10/dist-packages (from pandas>=1.1.0->geopandas) (2.8.2)\n",
            "Requirement already satisfied: pytz>=2020.1 in /usr/local/lib/python3.10/dist-packages (from pandas>=1.1.0->geopandas) (2023.4)\n",
            "Requirement already satisfied: tzdata>=2022.1 in /usr/local/lib/python3.10/dist-packages (from pandas>=1.1.0->geopandas) (2024.1)\n",
            "Requirement already satisfied: numpy>=1.21.0 in /usr/local/lib/python3.10/dist-packages (from pandas>=1.1.0->geopandas) (1.25.2)\n"
          ]
        }
      ],
      "source": [
        "pip install geopandas"
      ]
    },
    {
      "cell_type": "code",
      "source": [
        "import os\n",
        "import pandas as pd\n",
        "import geopandas as gpd\n",
        "import folium\n",
        "from google.cloud import bigquery\n",
        "from shapely import wkt\n",
        "from google.colab import auth\n",
        "auth.authenticate_user()\n",
        "client = bigquery.Client(project='tarletondatascience2022')\n",
        "\n",
        "query = \"\"\"\n",
        "SELECT\n",
        "  z.zip_code,\n",
        "  z.zip_code_geom AS polygon,\n",
        "  COALESCE(e.hispanic_count, 0) AS hispanic_count, --hispanic count if null change to 0\n",
        "  COALESCE(e.enrolled_in_grade_12, 0) AS enrolled_in_grade_12, --does the same thinf\n",
        "  z.city,\n",
        "  z.county\n",
        "  /*\n",
        "  CASE\n",
        "    WHEN COALESCE(e.hispanic_count, 0) = 0 THEN 0 --0 or null then just lwave as zero\n",
        "    ELSE COALESCE(e.enrolled_in_grade_12, 0) / COALESCE(e.hispanic_count, 1)  --otherwise just do calulation\n",
        "  END AS ratio,\n",
        "  CASE\n",
        "    WHEN COALESCE(e.enrolled_in_grade_12, 0) = 0 THEN 0\n",
        "    ELSE COALESCE(e.hispanic_count, 0) / COALESCE(e.enrolled_in_grade_12, 1) * 100\n",
        "  END AS flipped_ratio --this is the ratio flipped total enrolled 12th/hispanic count */\n",
        "FROM\n",
        "  `bigquery-public-data.geo_us_boundaries.zip_codes` z\n",
        "LEFT JOIN\n",
        "  (SELECT\n",
        "     hs.hs_zip,\n",
        "     hs.hispanic_count,\n",
        "     e.enrolled_in_grade_12\n",
        "   FROM\n",
        "     (SELECT\n",
        "        CAST(hs_zip AS STRING) AS hs_zip,\n",
        "        COUNT(*) AS hispanic_count\n",
        "      FROM\n",
        "        (SELECT\n",
        "           hs_zip,\n",
        "           hispanic,\n",
        "           term_desc,\n",
        "           styp_desc,\n",
        "           CAST(SUBSTR(term_desc, -4) AS INT) - 0.5 * CASE WHEN term_desc LIKE '%Spring%' THEN 1 ELSE 0 END AS term\n",
        "            -- find the year\n",
        "           --   change back to integer\n",
        "           --   - now subtract .5\n",
        "         FROM\n",
        "           `tarletondatascience2022.argil.tarleton data`\n",
        "         WHERE\n",
        "           term_desc != 'OnRamps 22-23') filtered_test2\n",
        "      WHERE\n",
        "        hispanic = 1\n",
        "        AND styp_desc = 'New First Time'\n",
        "        AND term BETWEEN 2018.5 AND 2021.5\n",
        "      GROUP BY\n",
        "        hs_zip) hs\n",
        "   LEFT JOIN\n",
        "     (SELECT\n",
        "        CAST(zcta AS STRING) AS zcta,\n",
        "        enrolled_in_grade_12\n",
        "      FROM\n",
        "        `tarletondatascience2022.argil.hispanic_enrolled_12`) e\n",
        "   ON\n",
        "     hs.hs_zip = e.zcta) e\n",
        "ON\n",
        "  z.zip_code = e.hs_zip\n",
        "WHERE\n",
        "  z.state_code = 'TX';\n",
        "\"\"\"\n",
        "\n",
        "\n",
        "df = client.query(query).to_dataframe()\n",
        "df['hispanic_count'] = df['hispanic_count'] + 1\n",
        "df['ratio'] = df['enrolled_in_grade_12'] / df['hispanic_count']\n",
        "#df.to_csv('Qry.csv', index=False)"
      ],
      "metadata": {
        "id": "NusbwyBOWibM"
      },
      "execution_count": null,
      "outputs": []
    },
    {
      "cell_type": "code",
      "source": [
        "import os\n",
        "import pandas as pd\n",
        "import geopandas as gpd\n",
        "import folium\n",
        "from google.cloud import bigquery\n",
        "from shapely import wkt\n",
        "from folium.plugins import Search\n",
        "\n",
        "# Load your data\n",
        "# df = pd.read_csv('Qry.csv')\n",
        "\n",
        "df['geometry'] = df['polygon'].apply(wkt.loads)\n",
        "\n",
        "gdf = gpd.GeoDataFrame(df, geometry='geometry')\n",
        "gdf.set_crs(epsg=4326, inplace=True)\n",
        "\n",
        "m = folium.Map(location=[31.0, -100.0], zoom_start=6, tiles='CartoDB Positron')\n",
        "\n",
        "thresholds = [0, 1, 2, 600, df['ratio'].max()]\n",
        "\n",
        "folium.Choropleth(\n",
        "    geo_data=gdf,\n",
        "    name='choropleth',\n",
        "    data=gdf,\n",
        "    columns=['zip_code', 'ratio'],\n",
        "    key_on='feature.properties.zip_code',\n",
        "    fill_color='Purples',\n",
        "    fill_opacity=0.4,\n",
        "    line_opacity=0.1,\n",
        "    threshold_scale=thresholds,\n",
        "    legend_name='Ratio of Enrolled to Hispanic'\n",
        ").add_to(m)\n",
        "\n",
        "geojson = folium.GeoJson(\n",
        "    gdf,\n",
        "    style_function=lambda x: {\n",
        "        'fillColor': '#ffffff',\n",
        "        'color': '#000000',\n",
        "        'weight': 0.3,\n",
        "        'fillOpacity': 0.1,\n",
        "    },\n",
        "    tooltip=folium.GeoJsonTooltip(\n",
        "        fields=['zip_code', 'city', 'county', 'hispanic_count', 'enrolled_in_grade_12', 'ratio'],\n",
        "        aliases=['ZIP Code :', 'City :', 'County :', 'Hispanic Count :', 'Enrolled in Grade 12 :', '1 Hispanic student registers at Tarleton out of every :'],\n",
        "        localize=True\n",
        "    )\n",
        ").add_to(m)\n",
        "\n",
        "for attribute in ['zip_code', 'city', 'county']:\n",
        "    Search(\n",
        "        layer=geojson,\n",
        "        geom_type='Polygon',\n",
        "        placeholder=f'Search for a {attribute}',\n",
        "        search_label=attribute,\n",
        "        collapsed=False\n",
        "    ).add_to(m)\n",
        "\n",
        "folium.LayerControl().add_to(m)\n",
        "\n",
        "m.save('texas_map.html')\n",
        "\n",
        "m\n"
      ],
      "metadata": {
        "id": "5wayL1QXW84l"
      },
      "execution_count": null,
      "outputs": []
    },
    {
      "cell_type": "code",
      "source": [
        "pip install census\n"
      ],
      "metadata": {
        "colab": {
          "base_uri": "https://localhost:8080/"
        },
        "id": "ll3DbTBK8mOk",
        "outputId": "991a8782-37b2-4188-d268-fdd14a455bab"
      },
      "execution_count": null,
      "outputs": [
        {
          "output_type": "stream",
          "name": "stdout",
          "text": [
            "Collecting census\n",
            "  Downloading census-0.8.22-py3-none-any.whl (11 kB)\n",
            "Requirement already satisfied: requests>=1.1.0 in /usr/local/lib/python3.10/dist-packages (from census) (2.31.0)\n",
            "Requirement already satisfied: charset-normalizer<4,>=2 in /usr/local/lib/python3.10/dist-packages (from requests>=1.1.0->census) (3.3.2)\n",
            "Requirement already satisfied: idna<4,>=2.5 in /usr/local/lib/python3.10/dist-packages (from requests>=1.1.0->census) (3.7)\n",
            "Requirement already satisfied: urllib3<3,>=1.21.1 in /usr/local/lib/python3.10/dist-packages (from requests>=1.1.0->census) (2.0.7)\n",
            "Requirement already satisfied: certifi>=2017.4.17 in /usr/local/lib/python3.10/dist-packages (from requests>=1.1.0->census) (2024.7.4)\n",
            "Installing collected packages: census\n",
            "Successfully installed census-0.8.22\n"
          ]
        }
      ]
    },
    {
      "cell_type": "code",
      "source": [
        "from census import Census\n",
        "import pandas as pd\n",
        "\n",
        "api_key = 'a026288c00e634cb64c4485ad778215df8979fb0'\n",
        "\n",
        "c = Census(api_key)\n",
        "\n",
        "variables = [\n",
        "    'B14007I_013E']\n",
        "\n",
        "data = c.acs5.state_county_tract(fields=variables, state_fips='48', county_fips='*', tract='*', year=2022)\n",
        "\n",
        "df = pd.DataFrame(data)\n",
        "\n",
        "df.rename(columns={\n",
        "    'state': 'State',\n",
        "    'county': 'County',\n",
        "    'tract': 'Tract',\n",
        "    'B14007I_013E': 'Hispanic_Enrolled_12th_Grade'\n",
        "}, inplace=True)\n",
        "\n",
        "\n",
        "\n",
        "\n",
        "df.to_csv('tract_hispanic_12th_grade_enrollment_2022.csv', index=False)\n",
        "\n",
        "\n",
        "print(df.head())\n"
      ],
      "metadata": {
        "colab": {
          "base_uri": "https://localhost:8080/"
        },
        "id": "8ZVAaCwy9ccv",
        "outputId": "04c3bf2c-abd0-4659-e48b-fb8af7777b8f"
      },
      "execution_count": null,
      "outputs": [
        {
          "output_type": "stream",
          "name": "stdout",
          "text": [
            "   Hispanic_Enrolled_12th_Grade State County   Tract County_Name\n",
            "0                          19.0    48    001  950100    Anderson\n",
            "1                           0.0    48    001  950401    Anderson\n",
            "2                           0.0    48    001  950402    Anderson\n",
            "3                          42.0    48    001  950500    Anderson\n",
            "4                          25.0    48    001  950600    Anderson\n"
          ]
        }
      ]
    },
    {
      "cell_type": "code",
      "source": [
        "import pandas as pd\n",
        "\n",
        "df_census = pd.read_csv('/content/tract_hispanic_12th_grade_enrollment_with_county.csv')\n",
        "\n",
        "\n",
        "\n",
        "df_texas_map = pd.read_csv( '/content/texas_map_prt3.csv')\n",
        "\n",
        "df_texas_map['Census_Tract'] = df_texas_map['Census_Tract'].astype(str).str.zfill(6)\n",
        "df_census['Tract'] = df_census['Tract'].astype(str).str.zfill(6)\n",
        "\n",
        "df_census_selected = df_census[['Tract', 'Hispanic_Enrolled_12th_Grade', 'County']]\n",
        "\n",
        "merged_df = df_texas_map.merge(df_census_selected, left_on='Census_Tract', right_on='Tract', how='left')\n",
        "\n",
        "unmatched_df = merged_df[merged_df['Hispanic_Enrolled_12th_Grade'].isna()]\n",
        "\n",
        "\n",
        "merged_df.to_csv('merged_texas_map_with_hispanic.csv', index=False)\n",
        "\n",
        "\n",
        "unmatched_df.to_csv('unmatched_tracts.csv', index=False)\n",
        "\n",
        "print(\"Merged DataFrame:\")\n",
        "print(merged_df.head())\n",
        "\n",
        "print(\"\\nUnmatched DataFrame:\")\n",
        "print(unmatched_df.head())\n"
      ],
      "metadata": {
        "colab": {
          "base_uri": "https://localhost:8080/"
        },
        "id": "l4gMUmGZ9cTj",
        "outputId": "0175d573-7356-483a-8bc3-c71e5106d61b"
      },
      "execution_count": null,
      "outputs": [
        {
          "output_type": "stream",
          "name": "stdout",
          "text": [
            "Merged DataFrame:\n",
            "   TERM_DESC RANDOM_ID  HISPANIC                         MAJOR COLLEGE  \\\n",
            "0  Fall 2019  S1723716         1   Ag Services and Development      AN   \n",
            "1  Fall 2021  S2098688         1  Wildlife Sus & Ecosystem Sci      AN   \n",
            "2  Fall 2019  S1856328         1                Animal Science      AN   \n",
            "3  Fall 2019  S1993678         1  Wildlife Sus & Ecosystem Sci      AN   \n",
            "4  Fall 2019  S2006384         1                Animal Science      AN   \n",
            "\n",
            "   TERM_HRS_ATMPT  TERM_HRS_ERND  TERM_GPA  OVRL_SCH  OVRL_GPA  ...  \\\n",
            "0              15             15      2.87        15  2.866667  ...   \n",
            "1              15             15      2.53        15  2.533333  ...   \n",
            "2              12              7      1.27        13  2.058824  ...   \n",
            "3              15             11      4.00        17  4.000000  ...   \n",
            "4              15              7      0.93         7  0.933333  ...   \n",
            "\n",
            "          Street         City  State    Zip Longitude   Latitude  \\\n",
            "0  5005 STAHL RD  SAN ANTONIO     TX  78247 -98.39032  29.580601   \n",
            "1  5005 STAHL RD  SAN ANTONIO     TX  78247 -98.39032  29.580601   \n",
            "2  5005 STAHL RD  SAN ANTONIO     TX  78247 -98.39032  29.580601   \n",
            "3  5005 STAHL RD  SAN ANTONIO     TX  78247 -98.39032  29.580601   \n",
            "4  5005 STAHL RD  SAN ANTONIO     TX  78247 -98.39032  29.580601   \n",
            "\n",
            "   Census_Tract   Tract Hispanic_Enrolled_12th_Grade        County  \n",
            "0        121808  121808                            0  Bexar County  \n",
            "1        121808  121808                            0  Bexar County  \n",
            "2        121808  121808                            0  Bexar County  \n",
            "3        121808  121808                            0  Bexar County  \n",
            "4        121808  121808                            0  Bexar County  \n",
            "\n",
            "[5 rows x 50 columns]\n",
            "\n",
            "Unmatched DataFrame:\n",
            "Empty DataFrame\n",
            "Columns: [TERM_DESC, RANDOM_ID, HISPANIC, MAJOR, COLLEGE, TERM_HRS_ATMPT, TERM_HRS_ERND, TERM_GPA, OVRL_SCH, OVRL_GPA, INCOMING_HOME_ZIP, HS_ZIP, SBGI_CODE, AGE, STYP_DESC, FATHER_ED_LEVL, MOTHER_ED_LEVL, FIRSTGEN, PRIMARY_LANGUAGE, ACT, SAT, WAIVER, VERIFICATION, VERIFY_STATUS, SCHOLARSHIP_APP, FAFSA, FTE, Year, term, ADDRESS, Unnamed: 2, Unnamed: 3, temp_address, Unnamed: 5, Unnamed: 6, Unnamed: 7, Unnamed: 8, Unnamed: 9, Unnamed: 10, Unnamed: 11, Street, City, State, Zip, Longitude, Latitude, Census_Tract, Tract, Hispanic_Enrolled_12th_Grade, County]\n",
            "Index: []\n",
            "\n",
            "[0 rows x 50 columns]\n"
          ]
        }
      ]
    },
    {
      "cell_type": "code",
      "source": [
        "import pandas as pd\n",
        "\n",
        "\n",
        "df_grouped = merged_df.groupby('Census_Tract').agg({\n",
        "    'HISPANIC': 'sum'\n",
        "}).reset_index()\n",
        "\n",
        "df_grouped.rename(columns={'HISPANIC': 'Total_HISPANIC'}, inplace=True)\n",
        "\n",
        "final_df = merged_df.merge(df_grouped, on='Census_Tract', how='left')\n",
        "\n",
        "final_df['ratio'] = final_df['Hispanic_Enrolled_12th_Grade'] / final_df['Total_HISPANIC']\n",
        "\n",
        "\n",
        "final_df.to_csv('final_hispanic_enrollment_ratio_by_tract.csv', index=False)\n",
        "\n",
        "print(final_df.head())\n"
      ],
      "metadata": {
        "colab": {
          "base_uri": "https://localhost:8080/"
        },
        "id": "_dIcUT0dyFBd",
        "outputId": "e7c9ca70-3861-4993-b753-8aa82b1da24c"
      },
      "execution_count": null,
      "outputs": [
        {
          "output_type": "stream",
          "name": "stdout",
          "text": [
            "   TERM_DESC RANDOM_ID  HISPANIC                         MAJOR COLLEGE  \\\n",
            "0  Fall 2019  S1723716         1   Ag Services and Development      AN   \n",
            "1  Fall 2021  S2098688         1  Wildlife Sus & Ecosystem Sci      AN   \n",
            "2  Fall 2019  S1856328         1                Animal Science      AN   \n",
            "3  Fall 2019  S1993678         1  Wildlife Sus & Ecosystem Sci      AN   \n",
            "4  Fall 2019  S2006384         1                Animal Science      AN   \n",
            "\n",
            "   TERM_HRS_ATMPT  TERM_HRS_ERND  TERM_GPA  OVRL_SCH  OVRL_GPA  ...  State  \\\n",
            "0              15             15      2.87        15  2.866667  ...     TX   \n",
            "1              15             15      2.53        15  2.533333  ...     TX   \n",
            "2              12              7      1.27        13  2.058824  ...     TX   \n",
            "3              15             11      4.00        17  4.000000  ...     TX   \n",
            "4              15              7      0.93         7  0.933333  ...     TX   \n",
            "\n",
            "     Zip  Longitude   Latitude Census_Tract   Tract  \\\n",
            "0  78247  -98.39032  29.580601       121808  121808   \n",
            "1  78247  -98.39032  29.580601       121808  121808   \n",
            "2  78247  -98.39032  29.580601       121808  121808   \n",
            "3  78247  -98.39032  29.580601       121808  121808   \n",
            "4  78247  -98.39032  29.580601       121808  121808   \n",
            "\n",
            "   Hispanic_Enrolled_12th_Grade        County Total_HISPANIC  ratio  \n",
            "0                             0  Bexar County              6    0.0  \n",
            "1                             0  Bexar County              6    0.0  \n",
            "2                             0  Bexar County              6    0.0  \n",
            "3                             0  Bexar County              6    0.0  \n",
            "4                             0  Bexar County              6    0.0  \n",
            "\n",
            "[5 rows x 52 columns]\n"
          ]
        }
      ]
    },
    {
      "cell_type": "code",
      "source": [
        "import pandas as pd\n",
        "import folium\n",
        "from math import ceil\n",
        "\n",
        "\n",
        "final_df['ratio'] = final_df['ratio'].apply(lambda x: ceil(x + 1))\n",
        "\n",
        "m = folium.Map(location=[31.9686, -99.9018], zoom_start=6)\n",
        "\n",
        "for index, row in final_df.iterrows():\n",
        "    folium.Marker(\n",
        "        location=[row['Latitude'], row['Longitude']],\n",
        "        popup=(\n",
        "            f\"City: {row['City']}<br>\"\n",
        "            f\"Census Tract: {row['Census_Tract']}<br>\"\n",
        "            f\"Hispanic Enrolled 12th Grade: {row['Hispanic_Enrolled_12th_Grade']}<br>\"\n",
        "            f\"Total Hispanic: {row['Total_HISPANIC']}<br>\"\n",
        "            f\"Ratio: {row['ratio']}\"\n",
        "        ),\n",
        "        icon=folium.Icon(color='blue', icon='info-sign')\n",
        "    ).add_to(m)\n",
        "\n",
        "\n",
        "m.save('texas_census_tract_hispanic_map2.html')\n",
        "\n"
      ],
      "metadata": {
        "colab": {
          "base_uri": "https://localhost:8080/",
          "height": 35
        },
        "id": "HVvOrgxD2Xn5",
        "outputId": "1b98b5dc-9a14-48b9-f25f-a5888034422d"
      },
      "execution_count": null,
      "outputs": [
        {
          "output_type": "execute_result",
          "data": {
            "text/plain": [
              "'texas_census_tract_hispanic_map2.html'"
            ],
            "application/vnd.google.colaboratory.intrinsic+json": {
              "type": "string"
            }
          },
          "metadata": {},
          "execution_count": 11
        }
      ]
    },
    {
      "cell_type": "code",
      "source": [
        "import pandas as pd\n",
        "import folium\n",
        "from math import ceil\n",
        "\n",
        "\n",
        "final_df['ratio'] = final_df['ratio'].apply(lambda x: ceil(x + 1))\n",
        "\n",
        "m = folium.Map(location=[31.9686, -99.9018], zoom_start=6)\n",
        "\n",
        "for index, row in final_df.iterrows():\n",
        "    folium.Marker(\n",
        "        location=[row['Latitude'], row['Longitude']],\n",
        "        popup=(\n",
        "            f\"City: {row['City']}<br>\"\n",
        "            f\"Census Tract: {row['Census_Tract']}<br>\"\n",
        "            f\"Hispanic Enrolled 12th Grade: {row['Hispanic_Enrolled_12th_Grade']}<br>\"\n",
        "            f\"Total Hispanic: {row['Total_HISPANIC']}<br>\"\n",
        "            f\"Ratio: {row['ratio']}\"\n",
        "        ),\n",
        "        icon=folium.Icon(color='blue', icon='info-sign')\n",
        "    ).add_to(m)\n",
        "\n",
        "m.save('texas_census_tract_hispanic_map3.html')\n",
        "\n"
      ],
      "metadata": {
        "colab": {
          "base_uri": "https://localhost:8080/",
          "height": 35
        },
        "id": "alppubpi30ey",
        "outputId": "685d4ca9-f6b0-4d9b-c6a6-1fbb67a08cef"
      },
      "execution_count": null,
      "outputs": [
        {
          "output_type": "execute_result",
          "data": {
            "text/plain": [
              "'texas_census_tract_hispanic_map3.html'"
            ],
            "application/vnd.google.colaboratory.intrinsic+json": {
              "type": "string"
            }
          },
          "metadata": {},
          "execution_count": 14
        }
      ]
    },
    {
      "cell_type": "code",
      "source": [
        "import pandas as pd\n",
        "import folium\n",
        "from folium.plugins import MarkerCluster\n",
        "from math import ceil\n",
        "\n",
        "\n",
        "final_df['ratio'] = final_df['ratio'].apply(lambda x: ceil(x + 1))\n",
        "\n",
        "m = folium.Map(location=[31.9686, -99.9018], zoom_start=6)\n",
        "\n",
        "marker_cluster = MarkerCluster().add_to(m)\n",
        "\n",
        "for index, row in final_df.iterrows():\n",
        "    folium.Marker(\n",
        "        location=[row['Latitude'], row['Longitude']],\n",
        "        popup=(\n",
        "            f\"City: {row['City']}<br>\"\n",
        "            f\"Census Tract: {row['Census_Tract']}<br>\"\n",
        "            f\"Hispanic Enrolled 12th Grade: {row['Hispanic_Enrolled_12th_Grade']}<br>\"\n",
        "            f\"Total Hispanic: {row['Total_HISPANIC']}<br>\"\n",
        "            f\"Ratio: {row['ratio']}\"\n",
        "        ),\n",
        "        icon=folium.Icon(color='blue', icon='info-sign')\n",
        "    ).add_to(marker_cluster)\n",
        "\n",
        "\n",
        "m.save( 'texas_census_tract_hispanic_map.html')\n",
        "\n",
        "\n"
      ],
      "metadata": {
        "colab": {
          "base_uri": "https://localhost:8080/",
          "height": 35
        },
        "id": "t3rqoYDO5Y2O",
        "outputId": "5227382e-09b7-47d8-cfc8-823c5e326919"
      },
      "execution_count": null,
      "outputs": [
        {
          "output_type": "execute_result",
          "data": {
            "text/plain": [
              "'texas_census_tract_hispanic_map.html'"
            ],
            "application/vnd.google.colaboratory.intrinsic+json": {
              "type": "string"
            }
          },
          "metadata": {},
          "execution_count": 15
        }
      ]
    },
    {
      "cell_type": "code",
      "source": [
        "import pandas as pd\n",
        "import folium\n",
        "from folium.plugins import MarkerCluster\n",
        "from math import ceil\n",
        "\n",
        "\n",
        "\n",
        "final_df['ratio'] = final_df['ratio'].apply(lambda x: ceil(x + 1))\n",
        "\n",
        "grouped_df = final_df.groupby('Census_Tract').agg({\n",
        "    'City': 'first',\n",
        "    'Latitude': 'first',\n",
        "    'Longitude': 'first',\n",
        "    'Hispanic_Enrolled_12th_Grade': 'sum',\n",
        "    'Total_HISPANIC': 'sum',\n",
        "    'ratio': 'first'\n",
        "}).reset_index()\n",
        "\n",
        "m = folium.Map(location=[31.9686, -99.9018], zoom_start=6)\n",
        "\n",
        "marker_cluster = MarkerCluster().add_to(m)\n",
        "\n",
        "for index, row in grouped_df.iterrows():\n",
        "    folium.Marker(\n",
        "        location=[row['Latitude'], row['Longitude']],\n",
        "        popup=(\n",
        "            f\"City: {row['City']}<br>\"\n",
        "            f\"Census Tract: {row['Census_Tract']}<br>\"\n",
        "            f\"Hispanic Enrolled 12th Grade: {row['Hispanic_Enrolled_12th_Grade']}<br>\"\n",
        "            f\"Total Hispanic: {row['Total_HISPANIC']}<br>\"\n",
        "            f\"Ratio: {row['ratio']}\"\n",
        "        ),\n",
        "        icon=folium.Icon(color='blue', icon='info-sign')\n",
        "    ).add_to(marker_cluster)\n",
        "\n",
        "m.save('texas_census_tract_hispanic_map5.html')\n",
        "\n"
      ],
      "metadata": {
        "colab": {
          "base_uri": "https://localhost:8080/",
          "height": 35
        },
        "id": "GclDNnNF6pfc",
        "outputId": "f14c3243-8f7e-47de-9c3a-2d39b572176f"
      },
      "execution_count": null,
      "outputs": [
        {
          "output_type": "execute_result",
          "data": {
            "text/plain": [
              "'texas_census_tract_hispanic_map5.html'"
            ],
            "application/vnd.google.colaboratory.intrinsic+json": {
              "type": "string"
            }
          },
          "metadata": {},
          "execution_count": 21
        }
      ]
    },
    {
      "cell_type": "code",
      "source": [
        "import pandas as pd\n",
        "import folium\n",
        "from folium.plugins import MarkerCluster\n",
        "import matplotlib.cm as cm\n",
        "import matplotlib.colors as colors\n",
        "from math import ceil\n",
        "\n",
        "\n",
        "final_df['ratio'] = final_df['ratio'].apply(lambda x: ceil(x + 1))\n",
        "\n",
        "grouped_df = final_df.groupby('Census_Tract').agg({\n",
        "    'City': 'first',\n",
        "    'Latitude': 'first',\n",
        "    'Longitude': 'first',\n",
        "    'Hispanic_Enrolled_12th_Grade': 'sum',\n",
        "    'Total_HISPANIC': 'sum',\n",
        "    'ratio': 'first'\n",
        "}).reset_index()\n",
        "\n",
        "min_ratio = grouped_df['ratio'].min()\n",
        "max_ratio = grouped_df['ratio'].max()\n",
        "norm = colors.Normalize(vmin=min_ratio, vmax=max_ratio)\n",
        "colormap = cm.ScalarMappable(norm=norm, cmap='viridis')\n",
        "\n",
        "def get_marker_color(ratio):\n",
        "    color = colormap.to_rgba(ratio)\n",
        "    return colors.rgb2hex(color)\n",
        "\n",
        "m = folium.Map(location=[31.9686, -99.9018], zoom_start=6)\n",
        "\n",
        "marker_cluster = MarkerCluster().add_to(m)\n",
        "\n",
        "for index, row in grouped_df.iterrows():\n",
        "    folium.Marker(\n",
        "        location=[row['Latitude'], row['Longitude']],\n",
        "        popup=(\n",
        "            f\"City: {row['City']}<br>\"\n",
        "            f\"Census Tract: {row['Census_Tract']}<br>\"\n",
        "            f\"Hispanic Enrolled 12th Grade: {row['Hispanic_Enrolled_12th_Grade']}<br>\"\n",
        "            f\"Total Hispanic: {row['Total_HISPANIC']}<br>\"\n",
        "            f\"Ratio: {row['ratio']}\"\n",
        "        ),\n",
        "        icon=folium.Icon(color=get_marker_color(row['ratio']), icon='info-sign')\n",
        "    ).add_to(marker_cluster)\n",
        "#didnt work but also where i left off\n",
        "legend_html = '''\n",
        "<div style=\"position: fixed;\n",
        "            bottom: 50px; left: 50px; width: 150px; height: 90px;\n",
        "            border:2px solid grey; z-index:9999; font-size:14px;\n",
        "            background-color:white; opacity:0.8;\">\n",
        "    <i class=\"fa fa-square fa-2x\" style=\"color: {low_color}\"></i>&nbsp; Min {min_ratio} <br>\n",
        "    <i class=\"fa fa-square fa-2x\" style=\"color: {high_color}\"></i>&nbsp; Max {max_ratio} <br>\n",
        "</div>\n",
        "'''.format(low_color=colors.rgb2hex(colormap.to_rgba(min_ratio)),\n",
        "           high_color=colors.rgb2hex(colormap.to_rgba(max_ratio)),\n",
        "           min_ratio=min_ratio,\n",
        "           max_ratio=max_ratio)\n",
        "\n",
        "m.get_root().html.add_child(folium.Element(legend_html))\n",
        "\n",
        "\n",
        "m.save('Texas_census_tract_hispanic_map_continuous_legend.html')\n",
        "\n"
      ],
      "metadata": {
        "colab": {
          "base_uri": "https://localhost:8080/",
          "height": 90
        },
        "id": "NkZ_3cSC9N7-",
        "outputId": "0873ca78-9c8e-4bb0-b9d7-a1cbc4524ac5"
      },
      "execution_count": null,
      "outputs": [
        {
          "output_type": "stream",
          "name": "stderr",
          "text": [
            "<ipython-input-20-dd095460b4ca>:50: UserWarning: color argument of Icon should be one of: {'darkblue', 'darkred', 'white', 'purple', 'beige', 'lightgray', 'darkpurple', 'blue', 'cadetblue', 'lightred', 'lightgreen', 'darkgreen', 'gray', 'orange', 'pink', 'green', 'lightblue', 'red', 'black'}.\n",
            "  icon=folium.Icon(color=get_marker_color(row['ratio']), icon='info-sign')\n"
          ]
        },
        {
          "output_type": "execute_result",
          "data": {
            "text/plain": [
              "'exas_census_tract_hispanic_map_continuous_legend.html'"
            ],
            "application/vnd.google.colaboratory.intrinsic+json": {
              "type": "string"
            }
          },
          "metadata": {},
          "execution_count": 20
        }
      ]
    }
  ]
}